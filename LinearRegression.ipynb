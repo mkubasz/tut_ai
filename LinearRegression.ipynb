{
 "cells": [
  {
   "cell_type": "code",
   "execution_count": 41,
   "metadata": {},
   "outputs": [],
   "source": [
    "%config IPCompleter.greedy=True\n"
   ]
  },
  {
   "cell_type": "code",
   "execution_count": 42,
   "metadata": {},
   "outputs": [],
   "source": [
    "import matplotlib.pyplot as plt\n",
    "import numpy as np\n",
    "from sklearn import datasets, linear_model\n",
    "import pandas as pd"
   ]
  },
  {
   "cell_type": "code",
   "execution_count": 43,
   "metadata": {},
   "outputs": [],
   "source": [
    "df = pd.read_csv(\"Housing.csv\")"
   ]
  },
  {
   "cell_type": "code",
   "execution_count": 44,
   "metadata": {},
   "outputs": [],
   "source": [
    "X = df['price']\n",
    "Y = df['lotsize']"
   ]
  },
  {
   "cell_type": "code",
   "execution_count": 45,
   "metadata": {},
   "outputs": [],
   "source": [
    "X = X.values.reshape(len(X), 1)\n",
    "Y = Y.values.reshape(len(Y), 1)"
   ]
  },
  {
   "cell_type": "code",
   "execution_count": 46,
   "metadata": {},
   "outputs": [],
   "source": [
    "X_train = X[:-250]\n",
    "X_test = X[-250:]"
   ]
  },
  {
   "cell_type": "code",
   "execution_count": 47,
   "metadata": {},
   "outputs": [],
   "source": [
    "Y_train = Y[:-250]\n",
    "Y_test = Y[-250:]"
   ]
  },
  {
   "cell_type": "code",
   "execution_count": 15,
   "metadata": {},
   "outputs": [
    {
     "data": {
      "text/plain": [
       "([], <a list of 0 Text yticklabel objects>)"
      ]
     },
     "execution_count": 15,
     "metadata": {},
     "output_type": "execute_result"
    },
    {
     "data": {
      "image/png": "[encoded data removed]",
      "text/plain": [
       "<Figure size 432x288 with 1 Axes>"
      ]
     },
     "metadata": {},
     "output_type": "display_data"
    }
   ],
   "source": []
  },
  {
   "cell_type": "code",
   "execution_count": 48,
   "metadata": {},
   "outputs": [],
   "source": [
    "regr = linear_model.LinearRegression()"
   ]
  },
  {
   "cell_type": "code",
   "execution_count": 49,
   "metadata": {},
   "outputs": [
    {
     "data": {
      "text/plain": [
       "LinearRegression(copy_X=True, fit_intercept=True, n_jobs=None,\n",
       "         normalize=False)"
      ]
     },
     "execution_count": 49,
     "metadata": {},
     "output_type": "execute_result"
    }
   ],
   "source": [
    "regr.fit(X_train, Y_train)"
   ]
  },
  {
   "cell_type": "code",
   "execution_count": 50,
   "metadata": {},
   "outputs": [
    {
     "data": {
      "text/plain": [
       "array([[ 42000.],\n",
       "       [ 38500.],\n",
       "       [ 49500.],\n",
       "       [ 60500.],\n",
       "       [ 61000.],\n",
       "       [ 66000.],\n",
       "       [ 66000.],\n",
       "       [ 69000.],\n",
       "       [ 83800.],\n",
       "       [ 88500.],\n",
       "       [ 90000.],\n",
       "       [ 30500.],\n",
       "       [ 27000.],\n",
       "       [ 36000.],\n",
       "       [ 37000.],\n",
       "       [ 37900.],\n",
       "       [ 40500.],\n",
       "       [ 40750.],\n",
       "       [ 45000.],\n",
       "       [ 45000.],\n",
       "       [ 48500.],\n",
       "       [ 65900.],\n",
       "       [ 37900.],\n",
       "       [ 38000.],\n",
       "       [ 42000.],\n",
       "       [ 42300.],\n",
       "       [ 43500.],\n",
       "       [ 44000.],\n",
       "       [ 44500.],\n",
       "       [ 44900.],\n",
       "       [ 45000.],\n",
       "       [ 48000.],\n",
       "       [ 49000.],\n",
       "       [ 51500.],\n",
       "       [ 61000.],\n",
       "       [ 61000.],\n",
       "       [ 61700.],\n",
       "       [ 67000.],\n",
       "       [ 82000.],\n",
       "       [ 54500.],\n",
       "       [ 66500.],\n",
       "       [ 70000.],\n",
       "       [ 82000.],\n",
       "       [ 92000.],\n",
       "       [ 38000.],\n",
       "       [ 44000.],\n",
       "       [ 41000.],\n",
       "       [ 43000.],\n",
       "       [ 48000.],\n",
       "       [ 54800.],\n",
       "       [ 55000.],\n",
       "       [ 57000.],\n",
       "       [ 68000.],\n",
       "       [ 95000.],\n",
       "       [ 38000.],\n",
       "       [ 25000.],\n",
       "       [ 25245.],\n",
       "       [ 56000.],\n",
       "       [ 35500.],\n",
       "       [ 30000.],\n",
       "       [ 48000.],\n",
       "       [ 48000.],\n",
       "       [ 52000.],\n",
       "       [ 54000.],\n",
       "       [ 56000.],\n",
       "       [ 60000.],\n",
       "       [ 60000.],\n",
       "       [ 67000.],\n",
       "       [ 47000.],\n",
       "       [ 70000.],\n",
       "       [ 45000.],\n",
       "       [ 51000.],\n",
       "       [ 32500.],\n",
       "       [ 34000.],\n",
       "       [ 35000.],\n",
       "       [ 36000.],\n",
       "       [ 45000.],\n",
       "       [ 47000.],\n",
       "       [ 55000.],\n",
       "       [ 63900.],\n",
       "       [ 50000.],\n",
       "       [ 35000.],\n",
       "       [ 50000.],\n",
       "       [ 43000.],\n",
       "       [ 55500.],\n",
       "       [ 57000.],\n",
       "       [ 60000.],\n",
       "       [ 78000.],\n",
       "       [ 35000.],\n",
       "       [ 44000.],\n",
       "       [ 47000.],\n",
       "       [ 58000.],\n",
       "       [163000.],\n",
       "       [128000.],\n",
       "       [123500.],\n",
       "       [ 39000.],\n",
       "       [ 53900.],\n",
       "       [ 59900.],\n",
       "       [ 35000.],\n",
       "       [ 43000.],\n",
       "       [ 57000.],\n",
       "       [ 79000.],\n",
       "       [125000.],\n",
       "       [132000.],\n",
       "       [ 58000.],\n",
       "       [ 43000.],\n",
       "       [ 48000.],\n",
       "       [ 58500.],\n",
       "       [ 73000.],\n",
       "       [ 63500.],\n",
       "       [ 43000.],\n",
       "       [ 46500.],\n",
       "       [ 92000.],\n",
       "       [ 75000.],\n",
       "       [ 75000.],\n",
       "       [ 85000.],\n",
       "       [ 93000.],\n",
       "       [ 94500.],\n",
       "       [106500.],\n",
       "       [116000.],\n",
       "       [ 61500.],\n",
       "       [ 80000.],\n",
       "       [ 37000.],\n",
       "       [ 59500.],\n",
       "       [ 70000.],\n",
       "       [ 95000.],\n",
       "       [117000.],\n",
       "       [122500.],\n",
       "       [123500.],\n",
       "       [127000.],\n",
       "       [ 35000.],\n",
       "       [ 44500.],\n",
       "       [ 49900.],\n",
       "       [ 50500.],\n",
       "       [ 65000.],\n",
       "       [ 90000.],\n",
       "       [ 46000.],\n",
       "       [ 35000.],\n",
       "       [ 26500.],\n",
       "       [ 43000.],\n",
       "       [ 56000.],\n",
       "       [ 40000.],\n",
       "       [ 51000.],\n",
       "       [ 51000.],\n",
       "       [ 57250.],\n",
       "       [ 44000.],\n",
       "       [ 61000.],\n",
       "       [ 62000.],\n",
       "       [ 80000.],\n",
       "       [ 50000.],\n",
       "       [ 59900.],\n",
       "       [ 35500.],\n",
       "       [ 37000.],\n",
       "       [ 42000.],\n",
       "       [ 48000.],\n",
       "       [ 60000.],\n",
       "       [ 60000.],\n",
       "       [ 60000.],\n",
       "       [ 62000.],\n",
       "       [ 63000.],\n",
       "       [ 63900.],\n",
       "       [130000.],\n",
       "       [ 25000.],\n",
       "       [ 50000.],\n",
       "       [ 52900.],\n",
       "       [ 62000.],\n",
       "       [ 73500.],\n",
       "       [ 38000.],\n",
       "       [ 46000.],\n",
       "       [ 48000.],\n",
       "       [ 52500.],\n",
       "       [ 32000.],\n",
       "       [ 38000.],\n",
       "       [ 46000.],\n",
       "       [ 50000.],\n",
       "       [ 57500.],\n",
       "       [ 70000.],\n",
       "       [ 69900.],\n",
       "       [ 74500.],\n",
       "       [ 42000.],\n",
       "       [ 60000.],\n",
       "       [ 50000.],\n",
       "       [ 58000.],\n",
       "       [ 63900.],\n",
       "       [ 28000.],\n",
       "       [ 54000.],\n",
       "       [ 44700.],\n",
       "       [ 47000.],\n",
       "       [ 50000.],\n",
       "       [ 57250.],\n",
       "       [ 67000.],\n",
       "       [ 52500.],\n",
       "       [ 42000.],\n",
       "       [ 57500.],\n",
       "       [ 33000.],\n",
       "       [ 34400.],\n",
       "       [ 40000.],\n",
       "       [ 40500.],\n",
       "       [ 46500.],\n",
       "       [ 52000.],\n",
       "       [ 53000.],\n",
       "       [ 53900.],\n",
       "       [ 50000.],\n",
       "       [ 55500.],\n",
       "       [ 56000.],\n",
       "       [ 60000.],\n",
       "       [ 60000.],\n",
       "       [ 69500.],\n",
       "       [ 72000.],\n",
       "       [ 92500.],\n",
       "       [ 40500.],\n",
       "       [ 42000.],\n",
       "       [ 47900.],\n",
       "       [ 52000.],\n",
       "       [ 62000.],\n",
       "       [ 41000.],\n",
       "       [138300.],\n",
       "       [ 42000.],\n",
       "       [ 47000.],\n",
       "       [ 64500.],\n",
       "       [ 46000.],\n",
       "       [ 58000.],\n",
       "       [ 70100.],\n",
       "       [ 78500.],\n",
       "       [ 87250.],\n",
       "       [ 70800.],\n",
       "       [ 56000.],\n",
       "       [ 48000.],\n",
       "       [ 68000.],\n",
       "       [ 79000.],\n",
       "       [ 80000.],\n",
       "       [ 87000.],\n",
       "       [ 25000.],\n",
       "       [ 32500.],\n",
       "       [ 36000.],\n",
       "       [ 42500.],\n",
       "       [ 43000.],\n",
       "       [ 50000.],\n",
       "       [ 26000.],\n",
       "       [ 30000.],\n",
       "       [ 34000.],\n",
       "       [ 52000.],\n",
       "       [ 70000.],\n",
       "       [ 27000.],\n",
       "       [ 32500.],\n",
       "       [ 37200.],\n",
       "       [ 38000.],\n",
       "       [ 42000.],\n",
       "       [ 44500.],\n",
       "       [ 45000.],\n",
       "       [ 48500.],\n",
       "       [ 52000.],\n",
       "       [ 53900.],\n",
       "       [ 60000.],\n",
       "       [ 61000.],\n",
       "       [ 64500.],\n",
       "       [ 71000.],\n",
       "       [ 75500.],\n",
       "       [ 33500.],\n",
       "       [ 41000.],\n",
       "       [ 41000.],\n",
       "       [ 46200.],\n",
       "       [ 48500.],\n",
       "       [ 48900.],\n",
       "       [ 50000.],\n",
       "       [ 51000.],\n",
       "       [ 52500.],\n",
       "       [ 52500.],\n",
       "       [ 54000.],\n",
       "       [ 59000.],\n",
       "       [ 60000.],\n",
       "       [ 63000.],\n",
       "       [ 64000.],\n",
       "       [ 64900.],\n",
       "       [ 65000.],\n",
       "       [ 66000.],\n",
       "       [ 70000.],\n",
       "       [ 65500.],\n",
       "       [ 57000.],\n",
       "       [ 52000.],\n",
       "       [ 54000.],\n",
       "       [ 74500.],\n",
       "       [ 90000.],\n",
       "       [ 45000.],\n",
       "       [ 45000.],\n",
       "       [ 65000.],\n",
       "       [ 55000.],\n",
       "       [ 62000.],\n",
       "       [ 30000.],\n",
       "       [ 34000.],\n",
       "       [ 38000.],\n",
       "       [ 39000.],\n",
       "       [ 45000.],\n",
       "       [ 47000.],\n",
       "       [ 47500.],\n",
       "       [ 49000.]])"
      ]
     },
     "execution_count": 50,
     "metadata": {},
     "output_type": "execute_result"
    }
   ],
   "source": [
    "X_train"
   ]
  },
  {
   "cell_type": "code",
   "execution_count": 51,
   "metadata": {},
   "outputs": [
    {
     "data": {
      "image/png": "[encoded data removed]",
      "text/plain": [
       "<Figure size 432x288 with 1 Axes>"
      ]
     },
     "metadata": {},
     "output_type": "display_data"
    }
   ],
   "source": [
    "plt.scatter(X_test, Y_test, color='black')\n",
    "plt.title('Test Data')\n",
    "plt.xlabel('Size')\n",
    "plt.ylabel('Price')\n",
    "plt.xticks(())\n",
    "plt.yticks(())\n",
    "plt.plot(X_test, regr.predict(X_test),color='red', linewidth=3)\n",
    "plt.show()"
   ]
  },
  {
   "cell_type": "code",
   "execution_count": 53,
   "metadata": {},
   "outputs": [
    {
     "data": {
      "text/plain": [
       "array([[4019.],\n",
       "       [4019.],\n",
       "       [4096.],\n",
       "       [4099.],\n",
       "       [4152.],\n",
       "       [4179.],\n",
       "       [4246.],\n",
       "       [4272.],\n",
       "       [4286.],\n",
       "       [4392.],\n",
       "       [4473.],\n",
       "       [4502.],\n",
       "       [4553.],\n",
       "       [4606.],\n",
       "       [4219.],\n",
       "       [4550.],\n",
       "       [4553.],\n",
       "       [4686.],\n",
       "       [4737.],\n",
       "       [4766.],\n",
       "       [4820.],\n",
       "       [4873.],\n",
       "       [4900.],\n",
       "       [4900.],\n",
       "       [4924.],\n",
       "       [5047.],\n",
       "       [5167.],\n",
       "       [5300.],\n",
       "       [5314.],\n",
       "       [5327.],\n",
       "       [5381.],\n",
       "       [5621.],\n",
       "       [5766.],\n",
       "       [5888.],\n",
       "       [5995.],\n",
       "       [7357.],\n",
       "       [4019.],\n",
       "       [4152.],\n",
       "       [4286.],\n",
       "       [4312.],\n",
       "       [5514.],\n",
       "       [6823.],\n",
       "       [6449.],\n",
       "       [4352.],\n",
       "       [4553.],\n",
       "       [4633.],\n",
       "       [4820.],\n",
       "       [4820.],\n",
       "       [5033.],\n",
       "       [3992.],\n",
       "       [4072.],\n",
       "       [4272.],\n",
       "       [4286.],\n",
       "       [4392.],\n",
       "       [4406.],\n",
       "       [4513.],\n",
       "       [4780.],\n",
       "       [4980.],\n",
       "       [5004.],\n",
       "       [4686.],\n",
       "       [4766.],\n",
       "       [5220.],\n",
       "       [5274.],\n",
       "       [5541.],\n",
       "       [6155.],\n",
       "       [6556.],\n",
       "       [7357.],\n",
       "       [4606.],\n",
       "       [4951.],\n",
       "       [5327.],\n",
       "       [5728.],\n",
       "       [5888.],\n",
       "       [6556.],\n",
       "       [4793.],\n",
       "       [4873.],\n",
       "       [4953.],\n",
       "       [5367.],\n",
       "       [5941.],\n",
       "       [6062.],\n",
       "       [6235.],\n",
       "       [6422.],\n",
       "       [7757.],\n",
       "       [4927.],\n",
       "       [5274.],\n",
       "       [5447.],\n",
       "       [5688.],\n",
       "       [6422.],\n",
       "       [4678.],\n",
       "       [4766.],\n",
       "       [4790.],\n",
       "       [4924.],\n",
       "       [4953.],\n",
       "       [4953.],\n",
       "       [4980.],\n",
       "       [5004.],\n",
       "       [5207.],\n",
       "       [5247.],\n",
       "       [5514.],\n",
       "       [4606.],\n",
       "       [4673.],\n",
       "       [4740.],\n",
       "       [4840.],\n",
       "       [4897.],\n",
       "       [4953.],\n",
       "       [5154.],\n",
       "       [4713.],\n",
       "       [4753.],\n",
       "       [4820.],\n",
       "       [4820.],\n",
       "       [4980.],\n",
       "       [5007.],\n",
       "       [5020.],\n",
       "       [5060.],\n",
       "       [5084.],\n",
       "       [5087.],\n",
       "       [5220.],\n",
       "       [5674.],\n",
       "       [3535.],\n",
       "       [4072.],\n",
       "       [5087.],\n",
       "       [5354.],\n",
       "       [5132.],\n",
       "       [7343.],\n",
       "       [5212.],\n",
       "       [4499.],\n",
       "       [4820.],\n",
       "       [4315.],\n",
       "       [4363.],\n",
       "       [4432.],\n",
       "       [4446.],\n",
       "       [4005.],\n",
       "       [4019.],\n",
       "       [4112.],\n",
       "       [4247.],\n",
       "       [4406.],\n",
       "       [4419.],\n",
       "       [4526.],\n",
       "       [4633.],\n",
       "       [4686.],\n",
       "       [4686.],\n",
       "       [6208.],\n",
       "       [4286.],\n",
       "       [4419.],\n",
       "       [4526.],\n",
       "       [4069.],\n",
       "       [4205.],\n",
       "       [4419.],\n",
       "       [4806.],\n",
       "       [4619.],\n",
       "       [5485.],\n",
       "       [5752.],\n",
       "       [5888.],\n",
       "       [4232.],\n",
       "       [4473.],\n",
       "       [4473.],\n",
       "       [4526.],\n",
       "       [4633.],\n",
       "       [4646.],\n",
       "       [4684.],\n",
       "       [4686.],\n",
       "       [4806.],\n",
       "       [5912.],\n",
       "       [3873.],\n",
       "       [3938.],\n",
       "       [3954.],\n",
       "       [3992.],\n",
       "       [3992.],\n",
       "       [3992.],\n",
       "       [4005.],\n",
       "       [4072.],\n",
       "       [4125.],\n",
       "       [4152.],\n",
       "       [4152.],\n",
       "       [4179.],\n",
       "       [4286.],\n",
       "       [4299.],\n",
       "       [4019.],\n",
       "       [4416.],\n",
       "       [5167.],\n",
       "       [4953.],\n",
       "       [4326.],\n",
       "       [5047.],\n",
       "       [5033.],\n",
       "       [5060.],\n",
       "       [5073.],\n",
       "       [5220.],\n",
       "       [5234.],\n",
       "       [4059.],\n",
       "       [4363.],\n",
       "       [5848.],\n",
       "       [3829.],\n",
       "       [3861.],\n",
       "       [3938.],\n",
       "       [4019.],\n",
       "       [4019.],\n",
       "       [4099.],\n",
       "       [4099.],\n",
       "       [4125.],\n",
       "       [4246.],\n",
       "       [4259.],\n",
       "       [4286.],\n",
       "       [4363.],\n",
       "       [4392.],\n",
       "       [4419.],\n",
       "       [4497.],\n",
       "       [4513.],\n",
       "       [4553.],\n",
       "       [4566.],\n",
       "       [4593.],\n",
       "       [4603.],\n",
       "       [4686.],\n",
       "       [4686.],\n",
       "       [5007.],\n",
       "       [4392.],\n",
       "       [4553.],\n",
       "       [3952.],\n",
       "       [4355.],\n",
       "       [4446.],\n",
       "       [4256.],\n",
       "       [4099.],\n",
       "       [5220.],\n",
       "       [5260.],\n",
       "       [5381.],\n",
       "       [5407.],\n",
       "       [5434.],\n",
       "       [5487.],\n",
       "       [5567.],\n",
       "       [5621.],\n",
       "       [5701.],\n",
       "       [5888.],\n",
       "       [5487.],\n",
       "       [5514.],\n",
       "       [5554.],\n",
       "       [5567.],\n",
       "       [5721.],\n",
       "       [5888.],\n",
       "       [4553.],\n",
       "       [4579.],\n",
       "       [4873.],\n",
       "       [4873.],\n",
       "       [4886.],\n",
       "       [4900.],\n",
       "       [4927.],\n",
       "       [4953.],\n",
       "       [4953.],\n",
       "       [5127.],\n",
       "       [5194.],\n",
       "       [5434.],\n",
       "       [5487.],\n",
       "       [5487.]])"
      ]
     },
     "execution_count": 53,
     "metadata": {},
     "output_type": "execute_result"
    }
   ],
   "source": [
    "regr.predict(X_test).round()"
   ]
  },
  {
   "cell_type": "code",
   "execution_count": 26,
   "metadata": {},
   "outputs": [],
   "source": [
    "import pandas as pd\n",
    "from sklearn.model_selection import train_test_split\n",
    "from sklearn.ensemble import RandomForestClassifier\n",
    "from sklearn.preprocessing import LabelEncoder\n",
    "from sklearn.metrics import confusion_matrix\n",
    "from sklearn.metrics import accuracy_score\n",
    "from sklearn.metrics import classification_report"
   ]
  },
  {
   "cell_type": "code",
   "execution_count": 27,
   "metadata": {},
   "outputs": [],
   "source": [
    "dataset = pd.read_csv( \n",
    "          'https://archive.ics.uci.edu/ml/machine-learning-'+\n",
    "          'databases/iris/iris.data',sep= ',', header= None) "
   ]
  },
  {
   "cell_type": "code",
   "execution_count": 28,
   "metadata": {},
   "outputs": [],
   "source": [
    "data = dataset.iloc[:,:]"
   ]
  },
  {
   "cell_type": "code",
   "execution_count": 29,
   "metadata": {},
   "outputs": [
    {
     "data": {
      "text/plain": [
       "0    0\n",
       "1    0\n",
       "2    0\n",
       "3    0\n",
       "4    0\n",
       "dtype: int64"
      ]
     },
     "execution_count": 29,
     "metadata": {},
     "output_type": "execute_result"
    }
   ],
   "source": [
    "data.isnull().summ()"
   ]
  },
  {
   "cell_type": "code",
   "execution_count": 31,
   "metadata": {},
   "outputs": [],
   "source": [
    "X = data.iloc[:,:-1].values\n",
    "Y = data.iloc[:, 4].values"
   ]
  },
  {
   "cell_type": "code",
   "execution_count": 33,
   "metadata": {},
   "outputs": [],
   "source": [
    "labelencoder_y = LabelEncoder()\n",
    "y = labelencoder_y.fit_transform(Y)"
   ]
  },
  {
   "cell_type": "code",
   "execution_count": 34,
   "metadata": {},
   "outputs": [],
   "source": [
    "X_train, X_test,Y_train, Y_test = train_test_split(X, y, test_size = 0.3, random_state = 0)"
   ]
  },
  {
   "cell_type": "code",
   "execution_count": 35,
   "metadata": {},
   "outputs": [
    {
     "name": "stderr",
     "output_type": "stream",
     "text": [
      "/Users/mkubasz/venv/lib/python3.7/site-packages/sklearn/ensemble/forest.py:246: FutureWarning: The default value of n_estimators will change from 10 in version 0.20 to 100 in 0.22.\n",
      "  \"10 in version 0.20 to 100 in 0.22.\", FutureWarning)\n"
     ]
    }
   ],
   "source": [
    "classifier = RandomForestClassifier()\n",
    "classifier = classifier.fit(X_train, Y_train)\n",
    "predicted = classifier.predict(X_test)"
   ]
  },
  {
   "cell_type": "code",
   "execution_count": 37,
   "metadata": {},
   "outputs": [
    {
     "data": {
      "text/plain": [
       "array([[16,  0,  0],\n",
       "       [ 0, 17,  1],\n",
       "       [ 0,  0, 11]])"
      ]
     },
     "execution_count": 37,
     "metadata": {},
     "output_type": "execute_result"
    }
   ],
   "source": [
    "confusion_matrix(Y_test, predicted)"
   ]
  },
  {
   "cell_type": "code",
   "execution_count": 38,
   "metadata": {},
   "outputs": [
    {
     "data": {
      "text/plain": [
       "0.9777777777777777"
      ]
     },
     "execution_count": 38,
     "metadata": {},
     "output_type": "execute_result"
    }
   ],
   "source": [
    "accuracy_score(Y_test, predicted)"
   ]
  },
  {
   "cell_type": "code",
   "execution_count": 39,
   "metadata": {},
   "outputs": [
    {
     "data": {
      "text/plain": [
       "'              precision    recall  f1-score   support\\n\\n           0       1.00      1.00      1.00        16\\n           1       1.00      0.94      0.97        18\\n           2       0.92      1.00      0.96        11\\n\\n   micro avg       0.98      0.98      0.98        45\\n   macro avg       0.97      0.98      0.98        45\\nweighted avg       0.98      0.98      0.98        45\\n'"
      ]
     },
     "execution_count": 39,
     "metadata": {},
     "output_type": "execute_result"
    }
   ],
   "source": [
    "classification_report(Y_test, predicted)"
   ]
  },
  {
   "cell_type": "code",
   "execution_count": null,
   "metadata": {},
   "outputs": [],
   "source": []
  }
 ],
 "metadata": {
  "kernelspec": {
   "display_name": "Python 3",
   "language": "python",
   "name": "python3"
  },
  "language_info": {
   "codemirror_mode": {
    "name": "ipython",
    "version": 3
   },
   "file_extension": ".py",
   "mimetype": "text/x-python",
   "name": "python",
   "nbconvert_exporter": "python",
   "pygments_lexer": "ipython3",
   "version": "3.7.3"
  }
 },
 "nbformat": 4,
 "nbformat_minor": 2
}
